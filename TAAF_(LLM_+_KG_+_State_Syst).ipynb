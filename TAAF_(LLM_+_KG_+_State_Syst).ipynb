{
  "nbformat": 4,
  "nbformat_minor": 0,
  "metadata": {
    "colab": {
      "provenance": []
    },
    "kernelspec": {
      "name": "python3",
      "display_name": "Python 3"
    },
    "language_info": {
      "name": "python"
    }
  },
  "cells": [
    {
      "cell_type": "code",
      "execution_count": 1,
      "metadata": {
        "cellView": "form",
        "id": "gh8HjLIvJmrD"
      },
      "outputs": [],
      "source": [
        "#@title Install required libraries\n",
        "!pip install -q openai"
      ]
    },
    {
      "cell_type": "code",
      "source": [
        "#@title Import libraries and setup\n",
        "import json\n",
        "from openai import OpenAI\n",
        "from google.colab import userdata\n",
        "\n",
        "# Initialize OpenAI client with secure API key\n",
        "client = OpenAI(\n",
        "    api_key=userdata.get(\"OPENAI_API_KEY\")  # From Colab secrets\n",
        ")"
      ],
      "metadata": {
        "cellView": "form",
        "id": "320SVE8DNQr-"
      },
      "execution_count": 9,
      "outputs": []
    },
    {
      "cell_type": "markdown",
      "source": [],
      "metadata": {
        "id": "RXN2CpB-NJxO"
      }
    },
    {
      "cell_type": "code",
      "source": [
        "#@title Data Loading Functions\n",
        "def load_kg_data(file_path):\n",
        "    \"\"\"Load Knowledge Graph JSON file as raw string\"\"\"\n",
        "    try:\n",
        "        with open(file_path, 'r') as f:\n",
        "            return json.dumps(json.load(f)), None\n",
        "    except Exception as e:\n",
        "        return None, f\"Error loading KG file: {str(e)}\"\n",
        "\n",
        "def load_raw_data(file_path):\n",
        "    \"\"\"Load raw text file as string\"\"\"\n",
        "    try:\n",
        "        with open(file_path, 'r') as f:\n",
        "            return f.read(), None\n",
        "    except Exception as e:\n",
        "        return None, f\"Error loading raw file: {str(e)}\""
      ],
      "metadata": {
        "cellView": "form",
        "id": "r1ovzKIMOmwP"
      },
      "execution_count": 3,
      "outputs": []
    },
    {
      "cell_type": "code",
      "source": [
        "#@title Prompt Templates\n",
        "KG_PROMPT = \"\"\"Analyze this Trace Compass state system knowledge graph JSON to answer the question.\n",
        "Focus on node relationships, temporal patterns, and resource utilization.\n",
        "\n",
        "Question: {question}\n",
        "\n",
        "Knowledge Graph Context:\n",
        "{context}\n",
        "\n",
        "Provide a detailed technical analysis using only the provided graph structure and properties.\"\"\"\n",
        "\n",
        "RAW_PROMPT = \"\"\"Analyze these raw system trace measurements to answer the question.\n",
        "Identify patterns, anomalies, and performance characteristics.\n",
        "\n",
        "Question: {question}\n",
        "\n",
        "Raw Data Context:\n",
        "{context}\n",
        "\n",
        "Provide a detailed technical analysis using only the provided raw measurements.\"\"\""
      ],
      "metadata": {
        "cellView": "form",
        "id": "YwFc2IyyOrwJ"
      },
      "execution_count": 4,
      "outputs": []
    },
    {
      "cell_type": "code",
      "source": [
        "#@title Analysis Functions\n",
        "def query_gpt4(prompt):\n",
        "    \"\"\"Execute GPT-4 query using modern client syntax\"\"\"\n",
        "    try:\n",
        "        response = client.chat.completions.create(\n",
        "            model=\"gpt-4\",\n",
        "            messages=[{\"role\": \"user\", \"content\": prompt}],\n",
        "            temperature=0.3,\n",
        "            max_tokens=1200\n",
        "        )\n",
        "        return response.choices[0].message.content.strip()\n",
        "    except Exception as e:\n",
        "        return f\"API Error: {str(e)}\"\n",
        "\n",
        "def analyze_kg(question, file_path):\n",
        "    \"\"\"Knowledge Graph analysis pipeline\"\"\"\n",
        "    context, error = load_kg_data(file_path)\n",
        "    if error:\n",
        "        return error\n",
        "\n",
        "    prompt = KG_PROMPT.format(\n",
        "        question=question,\n",
        "        context=context[:15000]  # Context window management\n",
        "    )\n",
        "    return query_gpt4(prompt)\n",
        "\n",
        "def analyze_raw(question, file_path):\n",
        "    \"\"\"Raw data analysis pipeline\"\"\"\n",
        "    context, error = load_raw_data(file_path)\n",
        "    if error:\n",
        "        return error\n",
        "\n",
        "    prompt = RAW_PROMPT.format(\n",
        "        question=question,\n",
        "        context=context[:15000]  # Keep within token limits\n",
        "    )\n",
        "    return query_gpt4(prompt)"
      ],
      "metadata": {
        "cellView": "form",
        "id": "eWxK6JSIO1S1"
      },
      "execution_count": 8,
      "outputs": []
    },
    {
      "cell_type": "code",
      "source": [
        "#@title Main Execution\n",
        "def full_analysis(question, kg_path=\"data/cpu_usage_graph.json\", raw_path=\"data/cpu_usage_input.txt\"):\n",
        "    \"\"\"Run complete analysis with both approaches\"\"\"\n",
        "    print(f\"\\n🔍 Question: {question}\")\n",
        "    print(\"=\"*60)\n",
        "\n",
        "    print(\"\\n📊 Knowledge Graph Analysis:\")\n",
        "    print(analyze_kg(question, kg_path))\n",
        "\n",
        "    print(\"\\n\\n📈 Raw Data Analysis:\")\n",
        "    print(analyze_raw(question, raw_path))\n",
        "\n",
        "# Example usage\n",
        "if __name__ == \"__main__\":\n",
        "    sample_question = \"What is the total accumulated CPU time for thread 5130 on CPU 1?\"  #@param {type:\"string\"}\n",
        "    full_analysis(sample_question)"
      ],
      "metadata": {
        "colab": {
          "base_uri": "https://localhost:8080/"
        },
        "cellView": "form",
        "id": "MXA1XOFNO-kt",
        "outputId": "be35a755-e04d-4c9a-e299-36bb473d2925"
      },
      "execution_count": 11,
      "outputs": [
        {
          "output_type": "stream",
          "name": "stdout",
          "text": [
            "\n",
            "🔍 Question: What is the total accumulated CPU time for thread 5130 on CPU 1?\n",
            "============================================================\n",
            "\n",
            "📊 Knowledge Graph Analysis:\n",
            "The provided knowledge graph JSON represents a state system of a computing system, specifically focusing on the CPU and thread entities. The graph is directed and not multigraph. \n",
            "\n",
            "The graph contains information about four CPUs, identified by their \"cpu_id\" (0, 1, 2, 3), and multiple threads, identified by their \"thread_id\". Each CPU node contains information about its busy time in nanoseconds (\"busy_time_ns\"), the number of unique threads it has processed (\"num_unique_threads\"), the average busy time per thread in nanoseconds (\"avg_busy_time_per_thread_ns\"), the total number of edge occurrences (\"total_edge_occurrences\"), and the maximum average edge time in nanoseconds (\"max_avg_edge_time_ns\").\n",
            "\n",
            "Each thread node contains the latest accumulated time in nanoseconds (\"latest_accumulated_time_ns\").\n",
            "\n",
            "The question asks for the total accumulated CPU time for thread 5130 on CPU 1. However, the provided graph does not contain explicit information about the CPU on which each thread was executed. Therefore, it is not possible to determine the total accumulated CPU time for thread 5130 on CPU 1 specifically.\n",
            "\n",
            "However, the graph does provide the latest accumulated time for thread 5130, which is 34468172 nanoseconds. This is the total time that thread 5130 has been running, but it does not specify on which CPU or CPUs this time was accumulated.\n",
            "\n",
            "In conclusion, while the graph provides detailed information about the utilization of each CPU and the running time of each thread, it does not provide explicit information about the relationship between specific CPUs and threads. Therefore, it is not possible to answer the question based solely on the provided graph.\n",
            "\n",
            "\n",
            "📈 Raw Data Analysis:\n",
            "The raw system trace measurements provided are key-value pairs where the key is a string in the format \"CPUs/CPU_ID/THREAD_ID\" and the value is the CPU time for the thread on the CPU.\n",
            "\n",
            "The question asks for the total accumulated CPU time for thread 5130 on CPU 1. The relevant key-value pair from the raw data is:\n",
            "\n",
            "CPUs/1/5130 => 34468172\n",
            "\n",
            "Therefore, the total accumulated CPU time for thread 5130 on CPU 1 is 34468172.\n",
            "\n",
            "However, it is worth noting that thread 5130 also appears on other CPUs (CPUs/2/5130, CPUs/3/5130, and CPUs/0/5130). If the question were asking for the total CPU time for thread 5130 across all CPUs, we would need to sum up the values for all these entries.\n",
            "\n",
            "It is also worth noting that the CPU times for different threads on the same CPU and for the same thread on different CPUs can vary widely. This could be due to a variety of factors, including the scheduling policies of the operating system, the workload of the different threads, and the specific tasks that the threads are performing.\n"
          ]
        }
      ]
    }
  ]
}