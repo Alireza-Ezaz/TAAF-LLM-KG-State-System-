{
  "nbformat": 4,
  "nbformat_minor": 0,
  "metadata": {
    "colab": {
      "provenance": []
    },
    "kernelspec": {
      "name": "python3",
      "display_name": "Python 3"
    },
    "language_info": {
      "name": "python"
    }
  },
  "cells": [
    {
      "cell_type": "code",
      "execution_count": 1,
      "metadata": {
        "cellView": "form",
        "id": "gh8HjLIvJmrD"
      },
      "outputs": [],
      "source": [
        "#@title Install required libraries\n",
        "!pip install -q openai"
      ]
    },
    {
      "cell_type": "code",
      "source": [
        "#@title Import libraries and setup\n",
        "import json\n",
        "from openai import OpenAI\n",
        "from google.colab import userdata\n",
        "\n",
        "# Initialize OpenAI client with secure API key\n",
        "client = OpenAI(\n",
        "    api_key=userdata.get(\"OPENAI_API_KEY\")  # From Colab secrets\n",
        ")"
      ],
      "metadata": {
        "id": "320SVE8DNQr-"
      },
      "execution_count": 48,
      "outputs": []
    },
    {
      "cell_type": "markdown",
      "source": [],
      "metadata": {
        "id": "RXN2CpB-NJxO"
      }
    },
    {
      "cell_type": "code",
      "source": [
        "#@title Data Loading Functions\n",
        "def load_kg_data(file_path):\n",
        "    \"\"\"Load Knowledge Graph JSON file as raw string\"\"\"\n",
        "    try:\n",
        "        with open(file_path, 'r') as f:\n",
        "            return json.dumps(json.load(f)), None\n",
        "    except Exception as e:\n",
        "        return None, f\"Error loading KG file: {str(e)}\"\n",
        "\n",
        "def load_raw_data(file_path):\n",
        "    \"\"\"Load raw text file as string\"\"\"\n",
        "    try:\n",
        "        with open(file_path, 'r') as f:\n",
        "            return f.read(), None\n",
        "    except Exception as e:\n",
        "        return None, f\"Error loading raw file: {str(e)}\""
      ],
      "metadata": {
        "cellView": "form",
        "id": "r1ovzKIMOmwP"
      },
      "execution_count": 3,
      "outputs": []
    },
    {
      "cell_type": "code",
      "source": [
        "#@title Prompt Templates\n",
        "KG_PROMPT = \"\"\"\n",
        "1. Focus on the question:\n",
        "Analyze the provided TraceCompass State System knowledge graph data to answer the question. You must focus on answering this specific question, and your response should be derived exclusively from the provided knowledge graph data.\n",
        "\n",
        "2. Use the provided data:\n",
        "The data you will use is from the TraceCompass State System, specifically in the form of a knowledge graph. Ensure your analysis strictly uses this data for the answer.\n",
        "\n",
        "3. Leverage your knowledge:\n",
        "You may use your understanding of TraceCompass State System analysis methods (such as CPU usage analysis, active thread analysis, and Ease script queries) as context for interpreting the data. Keep in mind that the provided data comes from an Ease script query run on the TraceCompass system.\n",
        "\n",
        "4. Reason over the graph:\n",
        "The data may not always be explicitly present in the graph, and you may need to reason over the graph's structure and relationships to derive the answer. Use your knowledge of node relationships, temporal patterns, and resource utilization to infer the missing information where necessary.\n",
        "\n",
        "5. Answer directly:\n",
        "Provide a direct, concise answer to the question. This answer should be based solely on the provided data.\n",
        "\n",
        "6. Explain your reasoning:\n",
        "After providing the direct answer, explain how you arrived at it. Your explanation should cover the following:\n",
        "   - How the nodes and their relationships helped answer the question.\n",
        "   - Any specific behaviors or insights derived from the TraceCompass State System analysis, such as CPU usage or thread activity analysis.\n",
        "\n",
        "7. Question and context:\n",
        "Question: {question}\n",
        "TraceCompass Knowledge Graph Context:\n",
        "{context}\n",
        "\n",
        "\"\"\"\n",
        "\n",
        "RAW_PROMPT = \"\"\"\n",
        "1. Focus on the question:\n",
        "Analyze the provided raw TraceCompass system trace data to answer the question. Your response must be directly based on this data.\n",
        "\n",
        "2. Use the provided data:\n",
        "The data you will use is from the TraceCompass State System in the form of raw system trace measurements. Your analysis should rely exclusively on this data for your answer.\n",
        "\n",
        "3. Leverage your knowledge:\n",
        "You may use your understanding of TraceCompass State System analysis methods (such as CPU usage analysis, active thread analysis, and Ease script queries) to interpret the trace data. The provided data is the result of an Ease script query run on the TraceCompass system.\n",
        "\n",
        "4. Answer directly:\n",
        "Provide a direct, concise answer to the question based on the raw trace data.\n",
        "\n",
        "5. Explain your reasoning:\n",
        "After providing the direct answer, explain how the raw data supports your answer. In your explanation, you should cover:\n",
        "   - Any patterns or anomalies you identified in the trace data.\n",
        "   - How these patterns or anomalies are relevant to the TraceCompass system's performance or behavior, particularly related to CPU usage, thread activity, or any Ease script queries.\n",
        "   - Any performance characteristics or insights drawn from the data, emphasizing the specific context of TraceCompass' analysis.\n",
        "\n",
        "6. Question and context:\n",
        "Question: {question}\n",
        "Raw Data Context:\n",
        "{context}\n",
        "\n",
        "\n",
        "\"\"\""
      ],
      "metadata": {
        "id": "YwFc2IyyOrwJ"
      },
      "execution_count": 49,
      "outputs": []
    },
    {
      "cell_type": "code",
      "source": [
        "#@title Analysis Functions\n",
        "def query_gpt4(prompt):\n",
        "    \"\"\"Execute GPT-4o query using modern client syntax\"\"\"\n",
        "    try:\n",
        "        response = client.chat.completions.create(\n",
        "            model=\"gpt-4o\",\n",
        "            messages=[{\"role\": \"user\", \"content\": prompt}],\n",
        "            temperature=0.5,\n",
        "            # reasoning_effort=\"medium\",  # Options: \"low\", \"medium\", \"high\"\n",
        "        )\n",
        "        return response.choices[0].message.content.strip()\n",
        "    except Exception as e:\n",
        "        return f\"API Error: {str(e)}\"\n",
        "\n",
        "def analyze_kg(question, file_path):\n",
        "    \"\"\"Knowledge Graph analysis pipeline\"\"\"\n",
        "    context, error = load_kg_data(file_path)\n",
        "    if error:\n",
        "        return error\n",
        "\n",
        "    prompt = KG_PROMPT.format(\n",
        "        question=question,\n",
        "        context=context[:15000]  # Context window management\n",
        "    )\n",
        "    return query_gpt4(prompt)\n",
        "\n",
        "def analyze_raw(question, file_path):\n",
        "    \"\"\"Raw data analysis pipeline\"\"\"\n",
        "    context, error = load_raw_data(file_path)\n",
        "    if error:\n",
        "        return error\n",
        "\n",
        "    prompt = RAW_PROMPT.format(\n",
        "        question=question,\n",
        "        context=context[:15000]  # Keep within token limits\n",
        "    )\n",
        "    return query_gpt4(prompt)"
      ],
      "metadata": {
        "id": "eWxK6JSIO1S1"
      },
      "execution_count": 52,
      "outputs": []
    },
    {
      "cell_type": "code",
      "source": [
        "#@title Main Execution\n",
        "def full_analysis(question, kg_path=\"data/cpu_usage_graph.json\", raw_path=\"data/cpu_usage_input.txt\"):\n",
        "    \"\"\"Run complete analysis with both approaches\"\"\"\n",
        "    print(f\"\\n🔍 Question: {question}\")\n",
        "    print(\"=\"*60)\n",
        "\n",
        "    print(\"\\n\\n📈 Raw Data Analysis:\")\n",
        "    print(analyze_raw(question, raw_path))\n",
        "\n",
        "    print(\"\\n📊 Knowledge Graph Analysis:\")\n",
        "    print(analyze_kg(question, kg_path))\n",
        "\n",
        "\n",
        "\n",
        "# Example usage\n",
        "if __name__ == \"__main__\":\n",
        "    sample_question = \"What is the total accumulated CPU time for thread 5130 on CPU 2?\"  #@param {type:\"string\"}\n",
        "    full_analysis(sample_question)"
      ],
      "metadata": {
        "colab": {
          "base_uri": "https://localhost:8080/"
        },
        "id": "MXA1XOFNO-kt",
        "outputId": "4b46ab42-105b-466e-bff3-fddfa3d9a352"
      },
      "execution_count": 57,
      "outputs": [
        {
          "output_type": "stream",
          "name": "stdout",
          "text": [
            "\n",
            "🔍 Question: What is the total accumulated CPU time for thread 5130 on CPU 2?\n",
            "============================================================\n",
            "\n",
            "\n",
            "📈 Raw Data Analysis:\n",
            "The total accumulated CPU time for thread 5130 on CPU 2 is **12,974,809**.\n",
            "\n",
            "**Explanation:**\n",
            "\n",
            "To determine the total accumulated CPU time for thread 5130 on CPU 2, we examine the raw data provided. The data is structured in a format where each entry follows the pattern `CPUs/<CPU number>/<Thread ID> => <CPU time>`. We need to locate the entry that corresponds to CPU 2 and thread 5130:\n",
            "\n",
            "- **CPUs/2/5130 => 12974809**\n",
            "\n",
            "This entry indicates that thread 5130 on CPU 2 has an accumulated CPU time of 12,974,809. There are no other entries for thread 5130 on CPU 2 in the provided data, confirming that this value is the total accumulated CPU time for that specific thread on that specific CPU.\n",
            "\n",
            "📊 Knowledge Graph Analysis:\n",
            "The total accumulated CPU time for thread 5130 on CPU 2 is 12,974,809 nanoseconds.\n",
            "\n",
            "**Explanation:**\n",
            "\n",
            "1. **Node Identification:**\n",
            "   - The graph provides nodes representing both CPUs and threads. Each node has a unique identifier. The thread of interest is identified by the ID `T_5130`, and the CPU of interest is identified by the ID `CPU_2`.\n",
            "\n",
            "2. **Edge Relationships:**\n",
            "   - The relationships between threads and CPUs are represented by edges labeled with the relation \"used_cpu.\" These edges include data on the accumulated CPU times for each thread on each CPU.\n",
            "\n",
            "3. **Data Extraction:**\n",
            "   - From the graph data, we find an edge with the source node `T_5130` and the target node `CPU_2`. This edge has a property `sum_accumulated_times_ns` with a value of 12,974,809 nanoseconds. This value represents the total accumulated CPU time for thread 5130 on CPU 2.\n",
            "\n",
            "4. **Direct Answer:**\n",
            "   - The direct answer is derived from the `sum_accumulated_times_ns` property of the edge between `T_5130` and `CPU_2`, which is 12,974,809 nanoseconds.\n"
          ]
        }
      ]
    }
  ]
}